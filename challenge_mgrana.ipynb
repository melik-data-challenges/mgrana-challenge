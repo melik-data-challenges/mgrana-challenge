{
 "cells": [
  {
   "cell_type": "code",
   "execution_count": 1,
   "metadata": {
    "ExecuteTime": {
     "end_time": "2019-07-11T23:40:05.938322Z",
     "start_time": "2019-07-11T23:40:05.120551Z"
    }
   },
   "outputs": [],
   "source": [
    "import sys, os\n",
    "\n",
    "import numpy as np\n",
    "import pandas as pd\n",
    "import matplotlib.pyplot as plt\n",
    "\n",
    "from sklearn.feature_extraction.text import CountVectorizer\n",
    "from sklearn.feature_extraction.text import TfidfTransformer\n",
    "from sklearn.svm import LinearSVC\n",
    "from sklearn.pipeline import Pipeline\n",
    "from sklearn.model_selection import GridSearchCV\n",
    "from sklearn.externals import joblib\n",
    "\n",
    "pd.set_option('max_colwidth', 500)\n",
    "\n",
    "%matplotlib inline"
   ]
  },
  {
   "cell_type": "code",
   "execution_count": 2,
   "metadata": {
    "ExecuteTime": {
     "end_time": "2019-07-11T23:40:06.228940Z",
     "start_time": "2019-07-11T23:40:05.941749Z"
    }
   },
   "outputs": [],
   "source": [
    "# read csv's\n",
    "df_train = pd.read_csv('./challenge_train_.csv',index_col=0, memory_map=True)\n",
    "df_test = pd.read_csv('./challenge_test_.csv', index_col=0, memory_map=True)"
   ]
  },
  {
   "cell_type": "markdown",
   "metadata": {},
   "source": [
    "# Exporatory data analysis"
   ]
  },
  {
   "cell_type": "code",
   "execution_count": 3,
   "metadata": {
    "ExecuteTime": {
     "end_time": "2019-07-11T23:40:06.243624Z",
     "start_time": "2019-07-11T23:40:06.231171Z"
    }
   },
   "outputs": [
    {
     "name": "stdout",
     "output_type": "stream",
     "text": [
      "<class 'pandas.core.frame.DataFrame'>\n",
      "Int64Index: 22500 entries, 0 to 22499\n",
      "Data columns (total 2 columns):\n",
      "text         22500 non-null object\n",
      "sentiment    22500 non-null int64\n",
      "dtypes: int64(1), object(1)\n",
      "memory usage: 527.3+ KB\n"
     ]
    }
   ],
   "source": [
    "df_train.info()"
   ]
  },
  {
   "cell_type": "code",
   "execution_count": 4,
   "metadata": {
    "ExecuteTime": {
     "end_time": "2019-07-11T23:40:06.257171Z",
     "start_time": "2019-07-11T23:40:06.247678Z"
    }
   },
   "outputs": [
    {
     "name": "stdout",
     "output_type": "stream",
     "text": [
      "<class 'pandas.core.frame.DataFrame'>\n",
      "Int64Index: 2500 entries, 22500 to 24999\n",
      "Data columns (total 2 columns):\n",
      "text         2500 non-null object\n",
      "sentiment    0 non-null float64\n",
      "dtypes: float64(1), object(1)\n",
      "memory usage: 58.6+ KB\n"
     ]
    }
   ],
   "source": [
    "df_test.info()"
   ]
  },
  {
   "cell_type": "markdown",
   "metadata": {},
   "source": [
    "## Drop duplicates"
   ]
  },
  {
   "cell_type": "markdown",
   "metadata": {},
   "source": [
    "### in _train_ set"
   ]
  },
  {
   "cell_type": "code",
   "execution_count": 5,
   "metadata": {
    "ExecuteTime": {
     "end_time": "2019-07-11T23:40:06.413949Z",
     "start_time": "2019-07-11T23:40:06.263067Z"
    }
   },
   "outputs": [
    {
     "name": "stdout",
     "output_type": "stream",
     "text": [
      "duplicated rows:  78\n"
     ]
    }
   ],
   "source": [
    "print('duplicated rows: ',df_train.duplicated().sum())\n",
    "df_train.drop_duplicates(inplace=True)"
   ]
  },
  {
   "cell_type": "markdown",
   "metadata": {},
   "source": [
    "### in _test_ set"
   ]
  },
  {
   "cell_type": "code",
   "execution_count": 6,
   "metadata": {
    "ExecuteTime": {
     "end_time": "2019-07-11T23:40:06.439217Z",
     "start_time": "2019-07-11T23:40:06.415627Z"
    }
   },
   "outputs": [
    {
     "name": "stdout",
     "output_type": "stream",
     "text": [
      "duplicated rows:  0\n"
     ]
    }
   ],
   "source": [
    "print('duplicated rows: ',df_test.duplicated().sum())\n",
    "df_test.drop_duplicates(inplace=True)"
   ]
  },
  {
   "cell_type": "markdown",
   "metadata": {},
   "source": [
    "### between  _train_ and _test_ set (I keep rows in _train_ set)"
   ]
  },
  {
   "cell_type": "code",
   "execution_count": 7,
   "metadata": {
    "ExecuteTime": {
     "end_time": "2019-07-11T23:40:06.483533Z",
     "start_time": "2019-07-11T23:40:06.441939Z"
    }
   },
   "outputs": [
    {
     "name": "stdout",
     "output_type": "stream",
     "text": [
      "text duplicated: 18\n"
     ]
    }
   ],
   "source": [
    "df_merge = df_train.merge(df_test.loc[:,'text'], on='text', )\n",
    "print('text duplicated: {}'.format(df_merge.shape[0]))\n",
    "\n",
    "df_test = df_test[~df_test.text.isin(df_merge.text)]"
   ]
  },
  {
   "cell_type": "markdown",
   "metadata": {},
   "source": [
    "## _sentiment_ labels "
   ]
  },
  {
   "cell_type": "code",
   "execution_count": 8,
   "metadata": {
    "ExecuteTime": {
     "end_time": "2019-07-11T23:40:06.498905Z",
     "start_time": "2019-07-11T23:40:06.485889Z"
    }
   },
   "outputs": [
    {
     "data": {
      "text/html": [
       "<div>\n",
       "<style scoped>\n",
       "    .dataframe tbody tr th:only-of-type {\n",
       "        vertical-align: middle;\n",
       "    }\n",
       "\n",
       "    .dataframe tbody tr th {\n",
       "        vertical-align: top;\n",
       "    }\n",
       "\n",
       "    .dataframe thead th {\n",
       "        text-align: right;\n",
       "    }\n",
       "</style>\n",
       "<table border=\"1\" class=\"dataframe\">\n",
       "  <thead>\n",
       "    <tr style=\"text-align: right;\">\n",
       "      <th></th>\n",
       "      <th>text</th>\n",
       "      <th>sentiment</th>\n",
       "    </tr>\n",
       "  </thead>\n",
       "  <tbody>\n",
       "    <tr>\n",
       "      <th>0</th>\n",
       "      <td>Horrible film. About an old crusty painter who hangs around with a young girl. Boring. Tatum O Neil goes through the motions in her part, and has some of the corniest lines in film history. Richard Burton looks close to death in this film, and we're supposed to believe he looks \"Good for sixty\". The acting is bad, as is the plot. The characters are awful, as is the story. It's really hard to feel for anyone in this film, except Larry Ewashen who plays a guy in a porno theater who hits on Tat...</td>\n",
       "      <td>1</td>\n",
       "    </tr>\n",
       "    <tr>\n",
       "      <th>1</th>\n",
       "      <td>This is the worst movie I've ever seen in my life. This is saying quite a bit, considering some of the choices I've made in film rentals.  I got this on netflix based entirely on the fact that someone I went to high school with is topless in it. The topless scene lasted all of about 5 seconds and the rest of the movie was about as much fun as having pungee sticks driven underneath my toenails whilst being forced to listen to Roseanne sing Big Spender.  The \"skits\" are stupid and consist of t...</td>\n",
       "      <td>1</td>\n",
       "    </tr>\n",
       "    <tr>\n",
       "      <th>2</th>\n",
       "      <td>I was really, really disappointed with this movie. it started really well, and built up some great atmosphere and suspense, but when it finally got round to revealing the \"monster\"...it turned out to be just some psycho with skin problems......again. Whoop-de-do. Yet another nutjob movie...like we don't already have enough of them.  To be fair, the \"creep\" is genuinely unsettling to look at, and the way he moves and the strange sounds he makes are pretty creepy, but I'm sick of renting film ...</td>\n",
       "      <td>1</td>\n",
       "    </tr>\n",
       "    <tr>\n",
       "      <th>3</th>\n",
       "      <td>Wow I loved this movie! It is about normal life in a small village. About hypocrisy and honesty, love and surrender. Great! It is about things everybody encounters in life. You have to do things with passion. But some people will not appreciate your passion and will try to stop you. There are people who find the opinion of others and 'what will the neighbors think' more important than to follow their heart. Don't let anybody's opinion stop you from fulfilling your dreams and passion. I loved...</td>\n",
       "      <td>0</td>\n",
       "    </tr>\n",
       "    <tr>\n",
       "      <th>4</th>\n",
       "      <td>Gung Ho is one of those movies that you will want to see over and over again. Michael Keaton is put in charge of wooing a Japanese car company to come to his town thus creating jobs for the residents of Hadleyville. What happens after that is one hilarious moment after another. The two cultures clash and it is up to Keaton to hold things together. Look for great performances from Keaton, Gedde Watanabe, George Wendt, Mimi Rogers, John Turturro, Soh Yamamura and Sab Shimomo. All are perfectly...</td>\n",
       "      <td>0</td>\n",
       "    </tr>\n",
       "  </tbody>\n",
       "</table>\n",
       "</div>"
      ],
      "text/plain": [
       "                                                                                                                                                                                                                                                                                                                                                                                                                                                                                                                  text  \\\n",
       "0  Horrible film. About an old crusty painter who hangs around with a young girl. Boring. Tatum O Neil goes through the motions in her part, and has some of the corniest lines in film history. Richard Burton looks close to death in this film, and we're supposed to believe he looks \"Good for sixty\". The acting is bad, as is the plot. The characters are awful, as is the story. It's really hard to feel for anyone in this film, except Larry Ewashen who plays a guy in a porno theater who hits on Tat...   \n",
       "1  This is the worst movie I've ever seen in my life. This is saying quite a bit, considering some of the choices I've made in film rentals.  I got this on netflix based entirely on the fact that someone I went to high school with is topless in it. The topless scene lasted all of about 5 seconds and the rest of the movie was about as much fun as having pungee sticks driven underneath my toenails whilst being forced to listen to Roseanne sing Big Spender.  The \"skits\" are stupid and consist of t...   \n",
       "2  I was really, really disappointed with this movie. it started really well, and built up some great atmosphere and suspense, but when it finally got round to revealing the \"monster\"...it turned out to be just some psycho with skin problems......again. Whoop-de-do. Yet another nutjob movie...like we don't already have enough of them.  To be fair, the \"creep\" is genuinely unsettling to look at, and the way he moves and the strange sounds he makes are pretty creepy, but I'm sick of renting film ...   \n",
       "3  Wow I loved this movie! It is about normal life in a small village. About hypocrisy and honesty, love and surrender. Great! It is about things everybody encounters in life. You have to do things with passion. But some people will not appreciate your passion and will try to stop you. There are people who find the opinion of others and 'what will the neighbors think' more important than to follow their heart. Don't let anybody's opinion stop you from fulfilling your dreams and passion. I loved...   \n",
       "4  Gung Ho is one of those movies that you will want to see over and over again. Michael Keaton is put in charge of wooing a Japanese car company to come to his town thus creating jobs for the residents of Hadleyville. What happens after that is one hilarious moment after another. The two cultures clash and it is up to Keaton to hold things together. Look for great performances from Keaton, Gedde Watanabe, George Wendt, Mimi Rogers, John Turturro, Soh Yamamura and Sab Shimomo. All are perfectly...   \n",
       "\n",
       "   sentiment  \n",
       "0          1  \n",
       "1          1  \n",
       "2          1  \n",
       "3          0  \n",
       "4          0  "
      ]
     },
     "execution_count": 8,
     "metadata": {},
     "output_type": "execute_result"
    }
   ],
   "source": [
    "df_train.head(5)"
   ]
  },
  {
   "cell_type": "code",
   "execution_count": 9,
   "metadata": {
    "ExecuteTime": {
     "end_time": "2019-07-11T23:40:06.502801Z",
     "start_time": "2019-07-11T23:40:06.500519Z"
    }
   },
   "outputs": [],
   "source": [
    "dict_labels = {0:'good', 1:'bad'}"
   ]
  },
  {
   "cell_type": "markdown",
   "metadata": {},
   "source": [
    "## _sentiment_ proportions in _train_ set"
   ]
  },
  {
   "cell_type": "code",
   "execution_count": 10,
   "metadata": {
    "ExecuteTime": {
     "end_time": "2019-07-11T23:40:06.645471Z",
     "start_time": "2019-07-11T23:40:06.504207Z"
    }
   },
   "outputs": [
    {
     "data": {
      "image/png": "[encoded data removed]",
      "text/plain": [
       "<Figure size 432x288 with 1 Axes>"
      ]
     },
     "metadata": {},
     "output_type": "display_data"
    }
   ],
   "source": [
    "df_train.sentiment.value_counts().rename(dict_labels ,axis=0).plot.pie(autopct='%0.2f');"
   ]
  },
  {
   "cell_type": "markdown",
   "metadata": {},
   "source": [
    "## _text_ lenght in  _train_ set"
   ]
  },
  {
   "cell_type": "code",
   "execution_count": 11,
   "metadata": {
    "ExecuteTime": {
     "end_time": "2019-07-11T23:40:06.689741Z",
     "start_time": "2019-07-11T23:40:06.652083Z"
    }
   },
   "outputs": [
    {
     "data": {
      "text/plain": [
       "count    22422.000000\n",
       "mean      1304.725448\n",
       "std        992.403398\n",
       "min         52.000000\n",
       "25%        694.000000\n",
       "50%        963.000000\n",
       "75%       1582.000000\n",
       "max      13604.000000\n",
       "Name: text, dtype: float64"
      ]
     },
     "execution_count": 11,
     "metadata": {},
     "output_type": "execute_result"
    }
   ],
   "source": [
    "df_train.text.apply(len).describe()"
   ]
  },
  {
   "cell_type": "code",
   "execution_count": 12,
   "metadata": {
    "ExecuteTime": {
     "end_time": "2019-07-11T23:40:07.104179Z",
     "start_time": "2019-07-11T23:40:06.693955Z"
    }
   },
   "outputs": [
    {
     "data": {
      "image/png": "[encoded data removed]",
      "text/plain": [
       "<Figure size 864x288 with 1 Axes>"
      ]
     },
     "metadata": {
      "needs_background": "light"
     },
     "output_type": "display_data"
    }
   ],
   "source": [
    "# df_train.text.apply(len).value_counts().hist(bins=50);\n",
    "df_train.text.apply(len).hist(bins=50, figsize=[12,4]);\n",
    "plt.xlabel('quantity of characteres')\n",
    "plt.ylabel('quantity of reviews')\n",
    "plt.title('Quantity of reviews by text lenght');"
   ]
  },
  {
   "cell_type": "markdown",
   "metadata": {},
   "source": [
    "# ML model"
   ]
  },
  {
   "cell_type": "markdown",
   "metadata": {},
   "source": [
    "## Text pre-processing"
   ]
  },
  {
   "cell_type": "code",
   "execution_count": 13,
   "metadata": {
    "ExecuteTime": {
     "end_time": "2019-07-11T23:40:07.113539Z",
     "start_time": "2019-07-11T23:40:07.109651Z"
    }
   },
   "outputs": [],
   "source": [
    "import string\n",
    "\n",
    "def clean_text(text):\n",
    "    # lower text\n",
    "    text = text.lower()\n",
    "    # tokenize text\n",
    "    text = [word for word in text.split(\" \")]\n",
    "    #  remove puncutation\n",
    "    text = [word.strip(string.punctuation) for word in text]\n",
    "    # remove words that contain numbers\n",
    "    text = [word for word in text if not any(c.isdigit() for c in word)]\n",
    "\n",
    "    # join all\n",
    "    text = \" \".join(text)\n",
    "    return(text)"
   ]
  },
  {
   "cell_type": "code",
   "execution_count": 14,
   "metadata": {
    "ExecuteTime": {
     "end_time": "2019-07-11T23:40:11.478888Z",
     "start_time": "2019-07-11T23:40:07.115056Z"
    }
   },
   "outputs": [],
   "source": [
    "df_train['clean_text'] = df_train['text'].apply(lambda x: clean_text(x))"
   ]
  },
  {
   "cell_type": "code",
   "execution_count": 15,
   "metadata": {
    "ExecuteTime": {
     "end_time": "2019-07-11T23:41:57.683744Z",
     "start_time": "2019-07-11T23:40:11.480256Z"
    }
   },
   "outputs": [],
   "source": [
    "X = df_train.clean_text\n",
    "y = df_train.sentiment\n",
    "\n",
    "text_clf = Pipeline([\n",
    "    ('vect', CountVectorizer()),\n",
    "    ('tfidf', TfidfTransformer()),\n",
    "    ('clf', LinearSVC())\n",
    "])\n",
    "\n",
    "parameters = {\n",
    "    'vect__ngram_range': [(1, 2)],\n",
    "#     'tfidf__use_idf': (True, False),\n",
    "#     'clf__tol': [1e-4]\n",
    "}\n",
    "\n",
    "grid_clf = GridSearchCV(text_clf, parameters, cv=5, iid=False, n_jobs=-1, scoring='accuracy')\n",
    "\n",
    "grid_clf = grid_clf.fit(X, y)\n",
    "\n",
    "# for param_name in sorted(parameters.keys()):\n",
    "#     print(\"{}: {}\".format(param_name, gs_clf.best_params_[param_name]))"
   ]
  },
  {
   "cell_type": "code",
   "execution_count": 16,
   "metadata": {
    "ExecuteTime": {
     "end_time": "2019-07-11T23:42:30.138973Z",
     "start_time": "2019-07-11T23:41:57.685811Z"
    }
   },
   "outputs": [
    {
     "data": {
      "text/plain": [
       "['review_clf.pkl']"
      ]
     },
     "execution_count": 16,
     "metadata": {},
     "output_type": "execute_result"
    }
   ],
   "source": [
    "joblib.dump(grid_clf.best_estimator_, 'review_clf.pkl')"
   ]
  },
  {
   "cell_type": "markdown",
   "metadata": {},
   "source": [
    "# Estimated accuracy"
   ]
  },
  {
   "cell_type": "code",
   "execution_count": 17,
   "metadata": {
    "ExecuteTime": {
     "end_time": "2019-07-11T23:42:30.144917Z",
     "start_time": "2019-07-11T23:42:30.140937Z"
    }
   },
   "outputs": [
    {
     "name": "stdout",
     "output_type": "stream",
     "text": [
      "0.9041564855395675\n"
     ]
    }
   ],
   "source": [
    "print(grid_clf.best_score_)"
   ]
  },
  {
   "cell_type": "markdown",
   "metadata": {},
   "source": [
    "**best_score_** : float <br>\n",
    "Mean cross-validated score of the best_estimator\n",
    "\n",
    "https://scikit-learn.org/stable/modules/generated/sklearn.model_selection.GridSearchCV.html"
   ]
  },
  {
   "cell_type": "markdown",
   "metadata": {},
   "source": [
    "# Sentiment predictions "
   ]
  },
  {
   "cell_type": "code",
   "execution_count": 18,
   "metadata": {
    "ExecuteTime": {
     "end_time": "2019-07-11T23:42:30.796507Z",
     "start_time": "2019-07-11T23:42:30.148418Z"
    }
   },
   "outputs": [],
   "source": [
    "df_test['clean_text'] = df_test['text'].apply(lambda x: clean_text(x))"
   ]
  },
  {
   "cell_type": "code",
   "execution_count": 19,
   "metadata": {
    "ExecuteTime": {
     "end_time": "2019-07-11T23:42:32.218776Z",
     "start_time": "2019-07-11T23:42:30.798175Z"
    }
   },
   "outputs": [],
   "source": [
    "X_test = df_test.clean_text\n",
    "y_pred = grid_clf.predict(X_test)"
   ]
  },
  {
   "cell_type": "code",
   "execution_count": 20,
   "metadata": {
    "ExecuteTime": {
     "end_time": "2019-07-11T23:42:32.232310Z",
     "start_time": "2019-07-11T23:42:32.223588Z"
    }
   },
   "outputs": [],
   "source": [
    "df_test.drop(columns=['sentiment'], inplace=True)\n",
    "df_test['sentiment'] = y_pred"
   ]
  },
  {
   "cell_type": "code",
   "execution_count": 21,
   "metadata": {
    "ExecuteTime": {
     "end_time": "2019-07-11T23:42:32.342466Z",
     "start_time": "2019-07-11T23:42:32.235687Z"
    }
   },
   "outputs": [
    {
     "data": {
      "image/png": "[encoded data removed]",
      "text/plain": [
       "<Figure size 432x288 with 1 Axes>"
      ]
     },
     "metadata": {},
     "output_type": "display_data"
    }
   ],
   "source": [
    "df_test.sentiment.value_counts().rename(dict_labels, axis=0).plot.pie(autopct='%0.2f');"
   ]
  },
  {
   "cell_type": "code",
   "execution_count": 22,
   "metadata": {
    "ExecuteTime": {
     "end_time": "2019-07-11T23:42:32.423384Z",
     "start_time": "2019-07-11T23:42:32.344892Z"
    }
   },
   "outputs": [],
   "source": [
    "df_test[['text', 'sentiment']].sort_index().to_csv('./test.csv')"
   ]
  }
 ],
 "metadata": {
  "hide_input": false,
  "kernelspec": {
   "display_name": "Python 3",
   "language": "python",
   "name": "python3"
  },
  "language_info": {
   "codemirror_mode": {
    "name": "ipython",
    "version": 3
   },
   "file_extension": ".py",
   "mimetype": "text/x-python",
   "name": "python",
   "nbconvert_exporter": "python",
   "pygments_lexer": "ipython3",
   "version": "3.7.2"
  },
  "toc": {
   "base_numbering": 1,
   "nav_menu": {},
   "number_sections": true,
   "sideBar": false,
   "skip_h1_title": false,
   "title_cell": "Table of Contents",
   "title_sidebar": "Contents",
   "toc_cell": false,
   "toc_position": {},
   "toc_section_display": true,
   "toc_window_display": false
  }
 },
 "nbformat": 4,
 "nbformat_minor": 2
}
